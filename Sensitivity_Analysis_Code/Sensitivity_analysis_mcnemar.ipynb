{
 "cells": [
  {
   "cell_type": "code",
   "execution_count": 1,
   "metadata": {},
   "outputs": [],
   "source": [
    "import csv"
   ]
  },
  {
   "cell_type": "code",
   "execution_count": 3,
   "metadata": {},
   "outputs": [],
   "source": [
    "# read in control case pairs\n",
    "case2ctrl = {}\n",
    "with open('/Users/campbelle2/Documents/Sensitivity_analysis/sensitivity_analysis_pairs.csv', 'r') as f:\n",
    "        reader = csv.reader(f)\n",
    "        next(reader) # skip header\n",
    "        for line in reader:\n",
    "            case2ctrl[line[0]]=line[1]"
   ]
  },
  {
   "cell_type": "code",
   "execution_count": 4,
   "metadata": {},
   "outputs": [],
   "source": [
    "with open('/Users/campbelle2/Documents/Sensitivity_analysis/SPADE_output_case.csv', 'r') as f: \n",
    "    reader = csv.reader(f)\n",
    "    next(reader) # skip header\n",
    "    patterns = [l[0] for l in reader]"
   ]
  },
  {
   "cell_type": "code",
   "execution_count": 5,
   "metadata": {},
   "outputs": [],
   "source": [
    "def load_patients(file_name):\n",
    "    edc_info = {}\n",
    "    with open(file_name, 'r') as f:\n",
    "        # file rows are\n",
    "        #person_id,Timing_Class,times,EDCs\n",
    "        #4239598,1,2,\"1-NUR04, 1-PSY17\"\n",
    "        reader = csv.reader(f)\n",
    "        next(reader) #skip header\n",
    "        for line in reader:\n",
    "            pid = line[0]\n",
    "            timing = int(line[1])-1\n",
    "            edcs = [_.strip() for _ in line[3].split(\",\")]\n",
    "            if pid not in edc_info:\n",
    "                edc_info[pid] = [[], [], []]\n",
    "            edc_info[pid][timing] = edcs\n",
    "    return edc_info"
   ]
  },
  {
   "cell_type": "code",
   "execution_count": 7,
   "metadata": {},
   "outputs": [],
   "source": [
    "case_edc_info = load_patients('/Users/campbelle2/Documents/Sensitivity_analysis/case_input.csv')"
   ]
  },
  {
   "cell_type": "code",
   "execution_count": 8,
   "metadata": {},
   "outputs": [],
   "source": [
    "ctrl_edc_info = load_patients('/Users/campbelle2/Documents/Sensitivity_analysis/control_input.csv')"
   ]
  },
  {
   "cell_type": "code",
   "execution_count": 9,
   "metadata": {},
   "outputs": [],
   "source": [
    "mcnemar_counts = {}\n",
    "missing_cases = []\n",
    "missing_ctrls = []\n",
    "for pattern in patterns:\n",
    "    mcnemar_counts[pattern] = [0, 0, 0, 0]\n",
    "    pattern_edcs = [_.strip() for _ in pattern.split(\",\")]\n",
    "    for case_pid, ctrl_pid in case2ctrl.items():\n",
    "        if case_pid not in case_edc_info:\n",
    "            missing_cases.append(case_pid)\n",
    "            case_edc_info[case_pid] = [[], [], []]\n",
    "        if ctrl_pid not in ctrl_edc_info:\n",
    "            missing_ctrls.append(ctrl_pid)\n",
    "            ctrl_edc_info[ctrl_pid] = [[], [], []]\n",
    "        b_case_has_pattern = True\n",
    "        b_ctrl_has_pattern = True    \n",
    "        case_visit_info = case_edc_info[case_pid]\n",
    "        ctrl_visit_info = ctrl_edc_info[ctrl_pid]\n",
    "        for edc in pattern_edcs:\n",
    "            tpl_idx = int(edc[0])-1\n",
    "            b_case_has_pattern = b_case_has_pattern and (edc in case_visit_info[tpl_idx])\n",
    "            b_ctrl_has_pattern = b_ctrl_has_pattern and (edc in ctrl_visit_info[tpl_idx])\n",
    "        if b_case_has_pattern and b_ctrl_has_pattern:\n",
    "            jdx = 0\n",
    "        elif b_case_has_pattern and (not b_ctrl_has_pattern):\n",
    "            jdx = 1\n",
    "        elif (not b_case_has_pattern) and b_ctrl_has_pattern:\n",
    "            jdx = 2\n",
    "        else:\n",
    "            jdx = 3\n",
    "        mcnemar_counts[pattern][jdx] = mcnemar_counts[pattern][jdx] + 1\n",
    "missing_cases = list(set(missing_cases))\n",
    "missing_ctrls = list(set(missing_ctrls))"
   ]
  },
  {
   "cell_type": "code",
   "execution_count": 10,
   "metadata": {},
   "outputs": [
    {
     "data": {
      "text/plain": [
       "{'1-ADM05': [30, 993, 970, 27941],\n",
       " '1-ALL03': [132, 1672, 1630, 26500],\n",
       " '1-ALL03,1-ALL04': [21, 678, 615, 28620],\n",
       " '1-ALL03,1-ALL04,2-ALL04': [8, 430, 322, 29174],\n",
       " '1-ALL03,2-ALL03': [13, 600, 463, 28858],\n",
       " '1-ALL03,2-ALL03,2-ALL04': [2, 311, 207, 29414],\n",
       " '1-ALL03,2-ALL04': [12, 566, 406, 28950],\n",
       " '1-ALL03,2-ALL04,3-ALL04': [4, 323, 241, 29366],\n",
       " '1-ALL04': [333, 2996, 2355, 24250],\n",
       " '1-ALL04,2-ALL03': [6, 633, 398, 28897],\n",
       " '1-ALL04,2-ALL03,2-ALL04': [4, 542, 331, 29057],\n",
       " '1-ALL04,2-ALL03,2-ALL04,3-ALL04': [2, 319, 221, 29392],\n",
       " '1-ALL04,2-ALL03,3-ALL04': [2, 358, 239, 29335],\n",
       " '1-ALL04,2-ALL04': [111, 1832, 1212, 26779],\n",
       " '1-ALL04,2-ALL04,2-NUT03': [0, 332, 0, 29602],\n",
       " '1-ALL04,2-ALL04,3-ALL03': [4, 331, 257, 29342],\n",
       " '1-ALL04,2-ALL04,3-ALL04': [45, 1090, 758, 28041],\n",
       " '1-ALL04,2-NUT03': [0, 455, 0, 29479],\n",
       " '1-ALL04,2-SKN02': [4, 330, 206, 29394],\n",
       " '1-EAR01': [526, 3054, 2969, 23385],\n",
       " '1-EAR01,1-EAR08': [9, 666, 365, 28894],\n",
       " '1-EAR01,1-EAR11': [19, 504, 617, 28794],\n",
       " '1-EAR01,2-ALL04': [4, 407, 211, 29312],\n",
       " '1-EAR01,2-EAR01': [72, 1056, 1407, 27399],\n",
       " '1-EAR01,2-EAR01,3-EAR01': [28, 769, 781, 28356],\n",
       " '1-EAR01,2-EAR08': [3, 305, 305, 29321],\n",
       " '1-EAR01,2-EAR11': [16, 308, 661, 28949],\n",
       " '1-EAR01,2-NUT03': [0, 345, 0, 29589],\n",
       " '1-EAR07': [6, 324, 316, 29288],\n",
       " '1-EAR08': [57, 1437, 842, 27598],\n",
       " '1-EAR08,2-EAR01': [7, 384, 275, 29268],\n",
       " '1-EAR08,2-EAR01,3-EAR01': [4, 307, 194, 29429],\n",
       " '1-EAR08,2-EAR08': [2, 299, 358, 29275],\n",
       " '1-EAR09': [9, 616, 354, 28955],\n",
       " '1-EAR11': [759, 3478, 4304, 21393],\n",
       " '1-EAR11,1-ALL04': [4, 492, 314, 29124],\n",
       " '1-EAR11,1-GSI03': [2, 331, 300, 29301],\n",
       " '1-EAR11,2-ALL03': [4, 406, 318, 29206],\n",
       " '1-EAR11,2-ALL04': [12, 687, 404, 28831],\n",
       " '1-EAR11,2-ALL04,3-ALL04': [1, 307, 170, 29456],\n",
       " '1-EAR11,2-EAR11': [35, 575, 1568, 27756],\n",
       " '1-EAR11,2-NUT03': [0, 765, 2, 29167],\n",
       " '1-EAR11,2-SKN02': [3, 316, 246, 29369],\n",
       " '1-EAR12': [6, 439, 313, 29176],\n",
       " '1-EYE07': [13, 433, 548, 28940],\n",
       " '1-EYE11': [5, 438, 313, 29178],\n",
       " '1-GAS03': [12, 791, 694, 28437],\n",
       " '1-GAS07': [7, 564, 502, 28861],\n",
       " '1-GAS08': [14, 525, 450, 28945],\n",
       " '1-GSI01': [8, 446, 483, 28997],\n",
       " '1-GSI03': [20, 752, 701, 28461],\n",
       " '1-GSI05': [4, 409, 280, 29241],\n",
       " '1-GSU09': [6, 469, 390, 29069],\n",
       " '1-GSU10': [20, 631, 723, 28560],\n",
       " '1-GUR06': [15, 733, 633, 28553],\n",
       " '1-INF06': [55, 1124, 1027, 27728],\n",
       " '1-INF06,1-EAR11': [6, 363, 331, 29234],\n",
       " '1-MUS01': [16, 614, 713, 28591],\n",
       " '1-MUS02': [30, 601, 653, 28650],\n",
       " '1-MUS04': [31, 610, 811, 28482],\n",
       " '1-MUS04,2-MUS04': [18, 410, 599, 28907],\n",
       " '1-MUS17': [19, 544, 584, 28787],\n",
       " '1-NUR01': [5, 376, 384, 29169],\n",
       " '1-NUR02': [12, 538, 396, 28988],\n",
       " '1-NUR07': [6, 528, 351, 29049],\n",
       " '1-NUR07,2-NUR07': [3, 357, 237, 29337],\n",
       " '1-NUR10': [2, 387, 230, 29315],\n",
       " '1-NUR19': [42, 939, 846, 28107],\n",
       " '1-NUR19,2-NUR19': [9, 398, 409, 29118],\n",
       " '1-NUR26': [3, 358, 228, 29345],\n",
       " '1-NUT03': [0, 987, 5, 28942],\n",
       " '1-NUT03,2-NUT03': [0, 621, 1, 29312],\n",
       " '1-PSY05': [21, 449, 725, 28739],\n",
       " '1-REC02': [1, 324, 260, 29349],\n",
       " '1-RES01': [17, 796, 659, 28462],\n",
       " '1-RES02': [2, 350, 426, 29156],\n",
       " '1-RES05': [29, 895, 905, 28105],\n",
       " '1-RES05,1-EAR11': [3, 326, 301, 29304],\n",
       " '1-RES06': [3, 423, 153, 29355],\n",
       " '1-RES07': [24, 668, 815, 28427],\n",
       " '1-SKN01': [14, 801, 566, 28553],\n",
       " '1-SKN02': [100, 1721, 1536, 26577],\n",
       " '1-SKN02,1-ALL04': [5, 330, 274, 29325],\n",
       " '1-SKN02,2-ALL04': [3, 365, 242, 29324],\n",
       " '1-SKN02,2-SKN02': [8, 586, 437, 28903],\n",
       " '1-SKN09': [6, 413, 321, 29194],\n",
       " '1-SKN11': [4, 376, 309, 29245],\n",
       " '1-SKN17': [2, 335, 268, 29329],\n",
       " '2-ADM05': [31, 914, 953, 28036],\n",
       " '2-ADM05,2-ALL04': [2, 306, 259, 29367],\n",
       " '2-ADM06': [26, 990, 415, 28503],\n",
       " '2-ALL03': [150, 2367, 1641, 25776],\n",
       " '2-ALL03,2-ALL04': [24, 1168, 609, 28133],\n",
       " '2-ALL03,2-ALL04,3-ALL03': [2, 342, 206, 29384],\n",
       " '2-ALL03,2-ALL04,3-ALL04': [10, 601, 334, 28989],\n",
       " '2-ALL03,2-NUT03': [0, 436, 0, 29498],\n",
       " '2-ALL03,2-SKN02': [3, 420, 231, 29280],\n",
       " '2-ALL03,3-ALL03': [7, 631, 488, 28808],\n",
       " '2-ALL03,3-ALL03,3-ALL04': [2, 333, 215, 29384],\n",
       " '2-ALL03,3-ALL04': [10, 694, 421, 28809],\n",
       " '2-ALL03,3-EAR11': [6, 358, 278, 29292],\n",
       " '2-ALL04': [424, 3828, 2272, 23410],\n",
       " '2-ALL04,2-EAR11': [6, 302, 323, 29303],\n",
       " '2-ALL04,2-NUT03': [0, 752, 0, 29182],\n",
       " '2-ALL04,2-NUT03,3-ALL04': [0, 330, 0, 29604],\n",
       " '2-ALL04,2-SKN02': [10, 524, 253, 29147],\n",
       " '2-ALL04,3-ALL03': [10, 612, 411, 28901],\n",
       " '2-ALL04,3-ALL03,3-ALL04': [8, 498, 343, 29085],\n",
       " '2-ALL04,3-ALL04': [121, 1986, 1234, 26593],\n",
       " '2-ALL04,3-EAR01': [5, 352, 229, 29348],\n",
       " '2-ALL04,3-EAR11': [12, 575, 400, 28947],\n",
       " '2-ALL04,3-NUT03': [0, 429, 0, 29505],\n",
       " '2-ALL04,3-SKN02': [3, 354, 231, 29346],\n",
       " '2-CAR11': [1, 313, 123, 29497],\n",
       " '2-EAR01': [338, 1936, 2928, 24732],\n",
       " '2-EAR01,2-EAR08': [4, 397, 333, 29200],\n",
       " '2-EAR01,2-EAR08,3-EAR01': [3, 309, 203, 29419],\n",
       " '2-EAR01,3-EAR01': [86, 1180, 1325, 27343],\n",
       " '2-EAR08': [23, 761, 852, 28298],\n",
       " '2-EAR08,3-EAR01': [5, 348, 270, 29311],\n",
       " '2-EAR08,3-EAR08': [4, 312, 343, 29275],\n",
       " '2-EAR09': [8, 680, 361, 28885],\n",
       " '2-EAR09,3-EAR09': [0, 413, 99, 29422],\n",
       " '2-EAR11': [420, 1798, 4469, 23247],\n",
       " '2-EAR11,3-ALL04': [5, 342, 440, 29147],\n",
       " '2-EAR11,3-EAR11': [36, 494, 1517, 27887],\n",
       " '2-EAR12': [3, 359, 295, 29277],\n",
       " '2-END05': [4, 516, 257, 29157],\n",
       " '2-EYE01': [1, 338, 238, 29357],\n",
       " '2-EYE07': [7, 340, 520, 29067],\n",
       " '2-GAS03': [31, 1008, 731, 28164],\n",
       " '2-GAS03,3-GAS03': [5, 342, 274, 29313],\n",
       " '2-GAS08': [16, 602, 480, 28836],\n",
       " '2-GSI01': [11, 691, 468, 28764],\n",
       " '2-GSU03': [9, 296, 259, 29370],\n",
       " '2-GSU09': [5, 341, 404, 29184],\n",
       " '2-GSU10': [10, 555, 758, 28611],\n",
       " '2-GUR06': [16, 726, 598, 28594],\n",
       " '2-INF06': [35, 539, 987, 28373],\n",
       " '2-MUS01': [28, 800, 704, 28402],\n",
       " '2-MUS02': [22, 646, 682, 28584],\n",
       " '2-MUS04': [43, 922, 840, 28129],\n",
       " '2-MUS04,3-MUS04': [21, 666, 598, 28649],\n",
       " '2-MUS17': [20, 702, 585, 28627],\n",
       " '2-NUR01': [7, 578, 378, 28971],\n",
       " '2-NUR02': [20, 525, 388, 29001],\n",
       " '2-NUR07': [10, 640, 369, 28915],\n",
       " '2-NUR07,3-NUR07': [3, 402, 247, 29282],\n",
       " '2-NUR10': [4, 515, 219, 29196],\n",
       " '2-NUR19': [59, 1374, 864, 27637],\n",
       " '2-NUR19,3-NUR19': [8, 488, 433, 29005],\n",
       " '2-NUR26': [8, 635, 248, 29043],\n",
       " '2-NUR26,3-NUR26': [2, 376, 149, 29407],\n",
       " '2-NUT01': [2, 326, 232, 29374],\n",
       " '2-NUT03': [1, 4182, 3, 25748],\n",
       " '2-NUT03,3-ALL04': [0, 448, 0, 29486],\n",
       " '2-NUT03,3-EAR11': [0, 596, 0, 29338],\n",
       " '2-NUT03,3-NUT03': [0, 1417, 1, 28516],\n",
       " '2-PSY01': [2, 307, 256, 29369],\n",
       " '2-PSY05': [43, 753, 716, 28422],\n",
       " '2-PSY05,3-PSY05': [16, 373, 448, 29097],\n",
       " '2-PSY10': [1, 398, 226, 29309],\n",
       " '2-PSY14': [1, 355, 185, 29393],\n",
       " '2-RES01': [26, 807, 694, 28407],\n",
       " '2-RES05': [19, 573, 859, 28483],\n",
       " '2-RES06': [0, 407, 160, 29367],\n",
       " '2-RES07': [17, 368, 781, 28768],\n",
       " '2-SKN01': [8, 422, 535, 28969],\n",
       " '2-SKN02': [122, 1963, 1436, 26413],\n",
       " '2-SKN02,3-ALL04': [3, 370, 236, 29325],\n",
       " '2-SKN02,3-SKN02': [7, 580, 445, 28902],\n",
       " '2-SKN04': [18, 495, 278, 29143],\n",
       " '2-SKN07': [4, 333, 357, 29240],\n",
       " '2-SKN11': [3, 313, 302, 29316],\n",
       " '2-SKN17': [5, 674, 295, 28960],\n",
       " '3-ADM05': [39, 1140, 900, 27855],\n",
       " '3-ADM05,3-ALL04': [2, 331, 254, 29347],\n",
       " '3-ADM06': [25, 863, 766, 28280],\n",
       " '3-ALL03': [111, 1804, 1680, 26339],\n",
       " '3-ALL03,3-ALL04': [20, 807, 645, 28462],\n",
       " '3-ALL03,3-SKN02': [0, 300, 260, 29374],\n",
       " '3-ALL04': [401, 3196, 2365, 23972],\n",
       " '3-ALL04,3-EAR11': [13, 418, 314, 29189],\n",
       " '3-ALL04,3-NUT03': [0, 447, 0, 29487],\n",
       " '3-ALL04,3-SKN02': [1, 378, 284, 29271],\n",
       " '3-EAR01': [462, 2446, 2749, 24277],\n",
       " '3-EAR01,3-EAR08': [8, 435, 321, 29170],\n",
       " '3-EAR01,3-EAR11': [10, 410, 518, 28996],\n",
       " '3-EAR07': [3, 425, 315, 29191],\n",
       " '3-EAR08': [36, 947, 791, 28160],\n",
       " '3-EAR09': [4, 788, 304, 28838],\n",
       " '3-EAR11': [594, 2843, 4210, 22287],\n",
       " '3-EAR11,3-INF06': [8, 329, 395, 29202],\n",
       " '3-EAR12': [6, 412, 310, 29206],\n",
       " '3-END05': [8, 429, 277, 29220],\n",
       " '3-EYE01': [4, 300, 267, 29363],\n",
       " '3-EYE07': [8, 391, 472, 29063],\n",
       " '3-EYE11': [8, 367, 304, 29255],\n",
       " '3-GAS01': [2, 307, 253, 29372],\n",
       " '3-GAS03': [25, 889, 732, 28288],\n",
       " '3-GAS07': [4, 381, 376, 29173],\n",
       " '3-GAS08': [14, 575, 455, 28890],\n",
       " '3-GSI01': [16, 590, 486, 28842],\n",
       " '3-GSI03': [14, 496, 605, 28819],\n",
       " '3-GSI05': [2, 322, 261, 29349],\n",
       " '3-GSU03': [4, 315, 279, 29336],\n",
       " '3-GSU09': [9, 468, 362, 29095],\n",
       " '3-GSU10': [19, 623, 740, 28552],\n",
       " '3-GUR06': [18, 666, 628, 28622],\n",
       " '3-INF06': [42, 868, 1047, 27977],\n",
       " '3-MUS01': [30, 777, 726, 28401],\n",
       " '3-MUS02': [29, 717, 667, 28521],\n",
       " '3-MUS04': [39, 937, 811, 28147],\n",
       " '3-MUS17': [11, 612, 586, 28725],\n",
       " '3-NUR01': [8, 460, 407, 29059],\n",
       " '3-NUR02': [14, 555, 419, 28946],\n",
       " '3-NUR07': [8, 581, 368, 28977],\n",
       " '3-NUR10': [2, 482, 182, 29268],\n",
       " '3-NUR19': [44, 1207, 828, 27855],\n",
       " '3-NUR26': [4, 575, 270, 29085],\n",
       " '3-NUT03': [0, 2663, 4, 27267],\n",
       " '3-PSY01': [6, 313, 296, 29319],\n",
       " '3-PSY05': [42, 707, 779, 28406],\n",
       " '3-PSY10': [3, 309, 213, 29409],\n",
       " '3-RES01': [28, 847, 685, 28374],\n",
       " '3-RES02': [6, 298, 408, 29222],\n",
       " '3-RES05': [21, 730, 830, 28353],\n",
       " '3-RES06': [1, 497, 155, 29281],\n",
       " '3-RES07': [17, 568, 859, 28490],\n",
       " '3-SKN01': [9, 574, 462, 28889],\n",
       " '3-SKN02': [75, 1590, 1429, 26840],\n",
       " '3-SKN04': [14, 330, 346, 29244],\n",
       " '3-SKN09': [3, 307, 324, 29300],\n",
       " '3-SKN17': [3, 535, 242, 29154]}"
      ]
     },
     "execution_count": 10,
     "metadata": {},
     "output_type": "execute_result"
    }
   ],
   "source": [
    "mcnemar_counts"
   ]
  },
  {
   "cell_type": "code",
   "execution_count": 11,
   "metadata": {},
   "outputs": [
    {
     "data": {
      "text/plain": [
       "[]"
      ]
     },
     "execution_count": 11,
     "metadata": {},
     "output_type": "execute_result"
    }
   ],
   "source": [
    "missing_cases"
   ]
  },
  {
   "cell_type": "code",
   "execution_count": 12,
   "metadata": {},
   "outputs": [
    {
     "data": {
      "text/plain": [
       "[]"
      ]
     },
     "execution_count": 12,
     "metadata": {},
     "output_type": "execute_result"
    }
   ],
   "source": [
    "missing_ctrls"
   ]
  },
  {
   "cell_type": "code",
   "execution_count": 13,
   "metadata": {},
   "outputs": [
    {
     "data": {
      "text/plain": [
       "234"
      ]
     },
     "execution_count": 13,
     "metadata": {},
     "output_type": "execute_result"
    }
   ],
   "source": [
    "len(mcnemar_counts)"
   ]
  },
  {
   "cell_type": "code",
   "execution_count": 14,
   "metadata": {},
   "outputs": [],
   "source": [
    "with open('mc_nemar_counts.csv','w+') as f:\n",
    "    for pattern, counts in mcnemar_counts.items():\n",
    "        line = '\\\"{0}\\\"'.format(pattern)\n",
    "        for c in counts:\n",
    "            line = \"{0},{1}\".format(line, c)\n",
    "        f.write(\"{0}\\n\".format(line))"
   ]
  },
  {
   "cell_type": "code",
   "execution_count": null,
   "metadata": {},
   "outputs": [],
   "source": []
  }
 ],
 "metadata": {
  "kernelspec": {
   "display_name": "Python 3",
   "language": "python",
   "name": "python3"
  },
  "language_info": {
   "codemirror_mode": {
    "name": "ipython",
    "version": 3
   },
   "file_extension": ".py",
   "mimetype": "text/x-python",
   "name": "python",
   "nbconvert_exporter": "python",
   "pygments_lexer": "ipython3",
   "version": "3.6.4"
  }
 },
 "nbformat": 4,
 "nbformat_minor": 2
}
