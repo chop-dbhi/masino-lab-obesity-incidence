{
 "cells": [
  {
   "cell_type": "markdown",
   "metadata": {},
   "source": [
    "# Design\n",
    "\n",
    "need for each spade pattern, the four counts:\n",
    " c1 = case +, control + for pattern\n",
    " c2 = case +, control - \n",
    " c3 = case -, control + \n",
    " c4 = case -, control -\n",
    " once we have these, for each pattern, we can calculate McNemar score\n",
    "\n",
    "want dictionary mcnemar_counts = {pattern_key: [c1, c2, c3, c4]}\n",
    "\n",
    "## setup\n",
    " 1. create a dictionary case2ctrl = {case pid : control pid}\n",
    " 2. create a dictionary case_edc_info = {case pid : [(EDC code pre), (EDC code idx), (EDC code post)]\n",
    " 3. create a dictionary ctrl_edc_info = {controls pid : [(EDC code pre), (EDC code idx), (EDC code post)]\n",
    " 4. create list of patterns\n",
    "\n",
    " mcnemar_counts = {}\n",
    " \n",
    " ```for pattern in patterns:\n",
    " \n",
    "     mcnemar_counts[pattern] = [0, 0, 0, 0]\n",
    "    \n",
    "    pattern_edcs = [_.strip() for _ in pattern.split(\",\")]\n",
    "    \n",
    "    for case_pid, control_pid in case2ctrl:\n",
    "        b_case_has_pattern = True\n",
    "    \n",
    "        b_ctrl_has_pattern = False\n",
    "         case_visit_info = case_edc_info[case_pid]\n",
    "         ctrl_visit_info = ctrl_edc_info[ctrl_pid]\n",
    "         for edc in pattern_edcs:\n",
    "             tpl_idx = int(edc[0])\n",
    "             b_case_has_pattern = b_case_has_pattern & (edc in case_visit_info[tpl_idx])\n",
    "             b_ctrl_has_pattern = b_ctrl_has_pattern & (edc in ctrl_visit_info[tpl_idx])\n",
    "         if b_case_has_pattern and b_ctrl_has_pattern:\n",
    "             jdx = 0\n",
    "         if b_case_has_pattern and not b_ctrl_has_pattern:\n",
    "             jdx = 1\n",
    "         elif not b_case_has_pattern and b_ctrl_has_pattern:\n",
    "             jdx = 2\n",
    "         else:\n",
    "             jdx = 3\n",
    "         mcnemar_counts[pattern][jdx] = mcnemar_counts[pattern][jdx] + 1\n",
    " ```"
   ]
  },
  {
   "cell_type": "code",
   "execution_count": 13,
   "metadata": {},
   "outputs": [],
   "source": [
    "import csv"
   ]
  },
  {
   "cell_type": "code",
   "execution_count": 14,
   "metadata": {},
   "outputs": [],
   "source": [
    "# read in control case pairs\n",
    "case2ctrl = {}\n",
    "with open('final_pairs_IDs.csv', 'r') as f:\n",
    "        reader = csv.reader(f)\n",
    "        next(reader) # skip header\n",
    "        for line in reader:\n",
    "            case2ctrl[line[0]]=line[1]"
   ]
  },
  {
   "cell_type": "code",
   "execution_count": 15,
   "metadata": {},
   "outputs": [],
   "source": [
    "with open('Sequence_support_values.csv', 'r') as f: \n",
    "    reader = csv.reader(f)\n",
    "    next(reader) # skip header\n",
    "    patterns = [l[0] for l in reader]"
   ]
  },
  {
   "cell_type": "code",
   "execution_count": 16,
   "metadata": {},
   "outputs": [],
   "source": [
    "# case_edc_info = {case pid : [(EDC code pre), (EDC code idx), (EDC code post)]\n",
    "def load_patients(file_name):\n",
    "    edc_info = {}\n",
    "    with open(file_name, 'r') as f:\n",
    "        # file rows are\n",
    "        #person_id,Timing_Class,times,EDCs\n",
    "        #4239598,1,2,\"1-NUR04, 1-PSY17\"\n",
    "        reader = csv.reader(f)\n",
    "        next(reader) #skip header\n",
    "        for line in reader:\n",
    "            pid = line[0]\n",
    "            timing = int(line[1])-1\n",
    "            edcs = [_.strip() for _ in line[3].split(\",\")]\n",
    "            if pid not in edc_info:\n",
    "                edc_info[pid] = [[], [], []]\n",
    "            edc_info[pid][timing] = edcs\n",
    "    return edc_info"
   ]
  },
  {
   "cell_type": "code",
   "execution_count": 17,
   "metadata": {},
   "outputs": [],
   "source": [
    "case_edc_info = load_patients('SPADE_input_cases.csv')"
   ]
  },
  {
   "cell_type": "code",
   "execution_count": 18,
   "metadata": {},
   "outputs": [],
   "source": [
    "ctrl_edc_info = load_patients('SPADE_input_controls.csv')"
   ]
  },
  {
   "cell_type": "code",
   "execution_count": 19,
   "metadata": {},
   "outputs": [],
   "source": [
    "mcnemar_counts = {}\n",
    "missing_cases = []\n",
    "missing_ctrls = []\n",
    "for pattern in patterns:\n",
    "    mcnemar_counts[pattern] = [0, 0, 0, 0]\n",
    "    pattern_edcs = [_.strip() for _ in pattern.split(\",\")]\n",
    "    for case_pid, ctrl_pid in case2ctrl.items():\n",
    "        if case_pid not in case_edc_info:\n",
    "            missing_cases.append(case_pid)\n",
    "            case_edc_info[case_pid] = [[], [], []]\n",
    "        if ctrl_pid not in ctrl_edc_info:\n",
    "            missing_ctrls.append(ctrl_pid)\n",
    "            ctrl_edc_info[ctrl_pid] = [[], [], []]\n",
    "        b_case_has_pattern = True\n",
    "        b_ctrl_has_pattern = True    \n",
    "        case_visit_info = case_edc_info[case_pid]\n",
    "        ctrl_visit_info = ctrl_edc_info[ctrl_pid]\n",
    "        for edc in pattern_edcs:\n",
    "            tpl_idx = int(edc[0])-1\n",
    "            b_case_has_pattern = b_case_has_pattern and (edc in case_visit_info[tpl_idx])\n",
    "            b_ctrl_has_pattern = b_ctrl_has_pattern and (edc in ctrl_visit_info[tpl_idx])\n",
    "        if b_case_has_pattern and b_ctrl_has_pattern:\n",
    "            jdx = 0\n",
    "        elif b_case_has_pattern and (not b_ctrl_has_pattern):\n",
    "            jdx = 1\n",
    "        elif (not b_case_has_pattern) and b_ctrl_has_pattern:\n",
    "            jdx = 2\n",
    "        else:\n",
    "            jdx = 3\n",
    "        mcnemar_counts[pattern][jdx] = mcnemar_counts[pattern][jdx] + 1\n",
    "missing_cases = list(set(missing_cases))\n",
    "missing_ctrls = list(set(missing_ctrls))"
   ]
  },
  {
   "cell_type": "code",
   "execution_count": 20,
   "metadata": {},
   "outputs": [
    {
     "data": {
      "text/plain": [
       "{'1-ADM05': [51, 1690, 1659, 46294],\n",
       " '1-ALL03': [215, 2779, 2688, 44012],\n",
       " '1-ALL03,1-ALL04': [35, 1112, 979, 47568],\n",
       " '1-ALL03,1-ALL04,2-ALL04': [14, 725, 532, 48423],\n",
       " '1-ALL03,2-ALL03': [25, 1029, 782, 47858],\n",
       " '1-ALL03,2-ALL03,2-ALL04': [6, 544, 353, 48791],\n",
       " '1-ALL03,2-ALL04': [25, 933, 672, 48064],\n",
       " '1-ALL04': [534, 4798, 3660, 40702],\n",
       " '1-ALL04,2-ALL03': [18, 1035, 634, 48007],\n",
       " '1-ALL04,2-ALL03,2-ALL04': [14, 907, 526, 48247],\n",
       " '1-ALL04,2-ALL04': [177, 2991, 1931, 44595],\n",
       " '1-ALL04,2-ALL04,2-NUT03': [0, 575, 0, 49119],\n",
       " '1-ALL04,2-ALL04,3-ALL04': [45, 1218, 1130, 47301],\n",
       " '1-ALL04,2-NUT03': [0, 794, 1, 48899],\n",
       " '1-ALL04,2-SKN02': [6, 566, 347, 48775],\n",
       " '1-EAR01': [744, 4656, 4590, 39704],\n",
       " '1-EAR01,1-EAR08': [19, 929, 616, 48130],\n",
       " '1-EAR01,1-EAR11': [22, 803, 924, 47945],\n",
       " '1-EAR01,2-ALL04': [5, 607, 319, 48763],\n",
       " '1-EAR01,2-EAR01': [89, 1408, 2117, 46080],\n",
       " '1-EAR01,2-EAR01,3-EAR01': [28, 850, 1147, 47669],\n",
       " '1-EAR01,2-NUT03': [0, 555, 0, 49139],\n",
       " '1-EAR07': [8, 531, 514, 48641],\n",
       " '1-EAR08': [93, 2113, 1380, 46108],\n",
       " '1-EAR08,2-EAR01': [7, 492, 459, 48736],\n",
       " '1-EAR09': [17, 1089, 643, 47945],\n",
       " '1-EAR11': [1141, 5680, 6766, 36107],\n",
       " '1-EAR11,1-ALL04': [6, 746, 505, 48437],\n",
       " '1-EAR11,1-GSI03': [6, 522, 468, 48698],\n",
       " '1-EAR11,2-ALL03': [8, 694, 473, 48519],\n",
       " '1-EAR11,2-ALL04': [19, 1070, 641, 47964],\n",
       " '1-EAR11,2-EAR11': [51, 936, 2404, 46303],\n",
       " '1-EAR11,2-NUT03': [0, 1216, 3, 48475],\n",
       " '1-EAR11,2-SKN02': [6, 504, 378, 48806],\n",
       " '1-EAR12': [7, 699, 521, 48467],\n",
       " '1-END05': [5, 500, 443, 48746],\n",
       " '1-EYE07': [20, 726, 839, 48109],\n",
       " '1-EYE11': [6, 616, 488, 48584],\n",
       " '1-GAS03': [22, 1326, 1170, 47176],\n",
       " '1-GAS07': [13, 889, 766, 48026],\n",
       " '1-GAS08': [19, 830, 757, 48088],\n",
       " '1-GSI01': [12, 756, 836, 48090],\n",
       " '1-GSI03': [33, 1236, 1110, 47315],\n",
       " '1-GSI05': [6, 672, 473, 48543],\n",
       " '1-GSU09': [10, 786, 639, 48259],\n",
       " '1-GSU10': [39, 1048, 1261, 47346],\n",
       " '1-GUR06': [21, 1226, 1023, 47424],\n",
       " '1-INF06': [84, 1795, 1749, 46066],\n",
       " '1-INF06,1-EAR11': [8, 555, 592, 48539],\n",
       " '1-MUS01': [42, 1113, 1251, 47288],\n",
       " '1-MUS02': [42, 1065, 1041, 47546],\n",
       " '1-MUS04': [62, 1199, 1478, 46955],\n",
       " '1-MUS04,2-MUS04': [31, 794, 1121, 47748],\n",
       " '1-MUS17': [31, 918, 1031, 47714],\n",
       " '1-NUR01': [9, 645, 683, 48357],\n",
       " '1-NUR02': [26, 930, 700, 48038],\n",
       " '1-NUR07': [15, 890, 603, 48186],\n",
       " '1-NUR07,2-NUR07': [4, 606, 418, 48666],\n",
       " '1-NUR10': [9, 650, 402, 48633],\n",
       " '1-NUR19': [61, 1429, 1391, 46813],\n",
       " '1-NUR19,2-NUR19': [12, 607, 668, 48407],\n",
       " '1-NUR26': [6, 580, 377, 48731],\n",
       " '1-NUT03': [0, 1614, 9, 48071],\n",
       " '1-NUT03,2-NUT03': [0, 993, 1, 48700],\n",
       " '1-PSY05': [42, 766, 1273, 47613],\n",
       " '1-REC02': [2, 533, 417, 48742],\n",
       " '1-RES01': [34, 1275, 1060, 47325],\n",
       " '1-RES02': [2, 551, 670, 48471],\n",
       " '1-RES05': [48, 1437, 1432, 46777],\n",
       " '1-RES05,1-EAR11': [6, 496, 449, 48743],\n",
       " '1-RES06': [5, 776, 277, 48636],\n",
       " '1-RES07': [40, 1076, 1313, 47265],\n",
       " '1-SKN01': [24, 1285, 915, 47470],\n",
       " '1-SKN02': [156, 2726, 2493, 44319],\n",
       " '1-SKN02,1-ALL04': [8, 535, 440, 48711],\n",
       " '1-SKN02,2-ALL04': [9, 593, 384, 48708],\n",
       " '1-SKN02,2-SKN02': [13, 947, 720, 48014],\n",
       " '1-SKN09': [9, 685, 522, 48478],\n",
       " '1-SKN11': [4, 602, 511, 48577],\n",
       " '1-SKN17': [4, 541, 463, 48686],\n",
       " '2-ADM05': [53, 1570, 1609, 46462],\n",
       " '2-ADM05,2-ALL04': [3, 541, 416, 48734],\n",
       " '2-ADM06': [85, 1746, 1358, 46505],\n",
       " '2-ALL03': [252, 3968, 2624, 42850],\n",
       " '2-ALL03,2-ALL04': [43, 1957, 978, 46716],\n",
       " '2-ALL03,2-ALL04,3-ALL04': [10, 687, 493, 48504],\n",
       " '2-ALL03,2-NUT03': [0, 736, 0, 48958],\n",
       " '2-ALL03,2-SKN02': [5, 719, 368, 48602],\n",
       " '2-ALL03,3-ALL03': [7, 723, 726, 48238],\n",
       " '2-ALL03,3-ALL04': [10, 791, 627, 48266],\n",
       " '2-ALL04': [679, 6215, 3602, 39198],\n",
       " '2-ALL04,2-NUT03': [0, 1265, 0, 48429],\n",
       " '2-ALL04,2-SKN02': [15, 892, 411, 48376],\n",
       " '2-ALL04,3-ALL03': [10, 695, 623, 48366],\n",
       " '2-ALL04,3-ALL03,3-ALL04': [8, 571, 513, 48602],\n",
       " '2-ALL04,3-ALL04': [121, 2210, 1874, 45489],\n",
       " '2-ALL04,3-EAR11': [12, 620, 571, 48491],\n",
       " '2-CAR11': [3, 565, 220, 48906],\n",
       " '2-EAR01': [452, 2683, 4515, 42044],\n",
       " '2-EAR01,2-EAR08': [7, 516, 531, 48640],\n",
       " '2-EAR01,3-EAR01': [86, 1305, 1954, 46349],\n",
       " '2-EAR08': [29, 1054, 1336, 47275],\n",
       " '2-EAR09': [20, 1088, 665, 47921],\n",
       " '2-EAR11': [610, 2819, 6915, 39350],\n",
       " '2-EAR11,3-EAR11': [36, 569, 2251, 46838],\n",
       " '2-EAR12': [3, 528, 485, 48678],\n",
       " '2-END05': [11, 971, 464, 48248],\n",
       " '2-EYE01': [4, 555, 412, 48723],\n",
       " '2-EYE07': [11, 543, 775, 48365],\n",
       " '2-GAS01': [6, 508, 455, 48725],\n",
       " '2-GAS03': [44, 1657, 1210, 46783],\n",
       " '2-GAS08': [21, 976, 757, 47940],\n",
       " '2-GSI01': [19, 1136, 819, 47720],\n",
       " '2-GSU03': [12, 487, 432, 48763],\n",
       " '2-GSU09': [6, 546, 633, 48509],\n",
       " '2-GSU10': [27, 1010, 1257, 47400],\n",
       " '2-GUR06': [31, 1208, 999, 47456],\n",
       " '2-INF06': [53, 787, 1551, 47303],\n",
       " '2-MUS01': [52, 1384, 1226, 47032],\n",
       " '2-MUS02': [32, 1058, 1136, 47468],\n",
       " '2-MUS04': [82, 1713, 1514, 46385],\n",
       " '2-MUS04,3-MUS04': [21, 764, 939, 47970],\n",
       " '2-MUS15': [4, 520, 358, 48812],\n",
       " '2-MUS17': [37, 1181, 1042, 47434],\n",
       " '2-NUR01': [13, 974, 675, 48032],\n",
       " '2-NUR02': [30, 888, 681, 48095],\n",
       " '2-NUR07': [16, 1076, 627, 47975],\n",
       " '2-NUR10': [9, 812, 388, 48485],\n",
       " '2-NUR19': [98, 2193, 1411, 45992],\n",
       " '2-NUR19,3-NUR19': [8, 552, 623, 48511],\n",
       " '2-NUR22': [10, 559, 362, 48763],\n",
       " '2-NUR26': [17, 1035, 419, 48223],\n",
       " '2-NUT03': [2, 7117, 8, 42567],\n",
       " '2-NUT03,2-SKN02': [0, 506, 0, 49188],\n",
       " '2-NUT03,3-ALL04': [0, 500, 2, 49192],\n",
       " '2-NUT03,3-EAR11': [0, 672, 2, 49020],\n",
       " '2-NUT03,3-NUT03': [0, 1595, 2, 48097],\n",
       " '2-PSY01': [5, 511, 454, 48724],\n",
       " '2-PSY05': [72, 1305, 1266, 47051],\n",
       " '2-PSY10': [1, 677, 405, 48611],\n",
       " '2-PSY14': [6, 587, 327, 48774],\n",
       " '2-RES01': [45, 1320, 1089, 47240],\n",
       " '2-RES05': [27, 864, 1316, 47487],\n",
       " '2-RES06': [1, 734, 310, 48649],\n",
       " '2-RES07': [24, 569, 1238, 47863],\n",
       " '2-SKN01': [11, 644, 877, 48162],\n",
       " '2-SKN02': [201, 3215, 2270, 44008],\n",
       " '2-SKN02,3-SKN02': [7, 649, 655, 48383],\n",
       " '2-SKN04': [33, 889, 490, 48282],\n",
       " '2-SKN07': [8, 507, 580, 48599],\n",
       " '2-SKN11': [7, 492, 478, 48717],\n",
       " '2-SKN17': [11, 1171, 477, 48035],\n",
       " '3-ADM05': [39, 1256, 1351, 47048],\n",
       " '3-ADM06': [25, 957, 1142, 47570],\n",
       " '3-ALL03': [111, 2039, 2546, 44998],\n",
       " '3-ALL03,3-ALL04': [20, 909, 961, 47804],\n",
       " '3-ALL04': [401, 3558, 3618, 42117],\n",
       " '3-EAR01': [462, 2734, 4143, 42355],\n",
       " '3-EAR08': [36, 1064, 1156, 47438],\n",
       " '3-EAR09': [4, 901, 477, 48312],\n",
       " '3-EAR11': [594, 3229, 6421, 39450],\n",
       " '3-END05': [8, 493, 441, 48752],\n",
       " '3-GAS03': [25, 981, 1048, 47640],\n",
       " '3-GAS08': [14, 626, 651, 48403],\n",
       " '3-GSI01': [16, 661, 725, 48292],\n",
       " '3-GSI03': [14, 543, 847, 48290],\n",
       " '3-GSU09': [9, 519, 559, 48607],\n",
       " '3-GSU10': [19, 690, 1089, 47896],\n",
       " '3-GUR06': [18, 760, 932, 47984],\n",
       " '3-INF06': [42, 979, 1504, 47169],\n",
       " '3-MUS01': [30, 891, 1087, 47686],\n",
       " '3-MUS02': [29, 815, 1011, 47839],\n",
       " '3-MUS04': [39, 1080, 1255, 47320],\n",
       " '3-MUS17': [11, 692, 902, 48089],\n",
       " '3-NUR01': [8, 522, 590, 48574],\n",
       " '3-NUR02': [14, 627, 621, 48432],\n",
       " '3-NUR07': [8, 658, 549, 48479],\n",
       " '3-NUR10': [2, 541, 295, 48856],\n",
       " '3-NUR19': [44, 1323, 1221, 47106],\n",
       " '3-NUR26': [4, 641, 402, 48647],\n",
       " '3-NUT03': [0, 3006, 7, 46681],\n",
       " '3-PSY05': [42, 802, 1247, 47603],\n",
       " '3-RES01': [28, 948, 985, 47733],\n",
       " '3-RES05': [21, 804, 1240, 47629],\n",
       " '3-RES06': [1, 557, 239, 48897],\n",
       " '3-RES07': [17, 634, 1231, 47812],\n",
       " '3-SKN01': [9, 663, 717, 48305],\n",
       " '3-SKN02': [75, 1779, 2123, 45717],\n",
       " '3-SKN17': [3, 605, 365, 48721]}"
      ]
     },
     "execution_count": 20,
     "metadata": {},
     "output_type": "execute_result"
    }
   ],
   "source": [
    "mcnemar_counts"
   ]
  },
  {
   "cell_type": "code",
   "execution_count": 21,
   "metadata": {},
   "outputs": [
    {
     "data": {
      "text/plain": [
       "['5445023', '4758869']"
      ]
     },
     "execution_count": 21,
     "metadata": {},
     "output_type": "execute_result"
    }
   ],
   "source": [
    "missing_cases"
   ]
  },
  {
   "cell_type": "code",
   "execution_count": 22,
   "metadata": {},
   "outputs": [
    {
     "data": {
      "text/plain": [
       "['5418135', '4547110', '4657364', '4464419', '4340750', '5933873']"
      ]
     },
     "execution_count": 22,
     "metadata": {},
     "output_type": "execute_result"
    }
   ],
   "source": [
    "missing_ctrls"
   ]
  },
  {
   "cell_type": "code",
   "execution_count": 23,
   "metadata": {},
   "outputs": [
    {
     "data": {
      "text/plain": [
       "189"
      ]
     },
     "execution_count": 23,
     "metadata": {},
     "output_type": "execute_result"
    }
   ],
   "source": [
    "len(mcnemar_counts)"
   ]
  },
  {
   "cell_type": "code",
   "execution_count": 25,
   "metadata": {},
   "outputs": [],
   "source": [
    "with open('mc_nemar_counts.csv','w+') as f:\n",
    "    for pattern, counts in mcnemar_counts.items():\n",
    "        line = '\\\"{0}\\\"'.format(pattern)\n",
    "        for c in counts:\n",
    "            line = \"{0},{1}\".format(line, c)\n",
    "        f.write(\"{0}\\n\".format(line))"
   ]
  },
  {
   "cell_type": "code",
   "execution_count": null,
   "metadata": {
    "collapsed": true
   },
   "outputs": [],
   "source": []
  }
 ],
 "metadata": {
  "kernelspec": {
   "display_name": "Python 3",
   "language": "python",
   "name": "python3"
  },
  "language_info": {
   "codemirror_mode": {
    "name": "ipython",
    "version": 3
   },
   "file_extension": ".py",
   "mimetype": "text/x-python",
   "name": "python",
   "nbconvert_exporter": "python",
   "pygments_lexer": "ipython3",
   "version": "3.6.6"
  }
 },
 "nbformat": 4,
 "nbformat_minor": 1
}
