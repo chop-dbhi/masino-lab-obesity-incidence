{
 "cells": [
  {
   "cell_type": "code",
   "execution_count": 23,
   "metadata": {},
   "outputs": [],
   "source": [
    "import pandas as pd\n",
    "import numpy as np"
   ]
  },
  {
   "cell_type": "code",
   "execution_count": 24,
   "metadata": {},
   "outputs": [],
   "source": [
    "d= {}"
   ]
  },
  {
   "cell_type": "code",
   "execution_count": 25,
   "metadata": {},
   "outputs": [],
   "source": [
    "df = pd.read_csv('/Users/campbelle2/Documents/source_EDC.csv')"
   ]
  },
  {
   "cell_type": "code",
   "execution_count": 26,
   "metadata": {},
   "outputs": [],
   "source": [
    "for i in range(len(df)):\n",
    "    snomed= df.iloc[i]['condition_source_concept_id']\n",
    "    EDC= df.iloc[i]['edc_code']\n",
    "    if snomed in d:\n",
    "        d[snomed].append(EDC)\n",
    "    else:\n",
    "        d[snomed]=[EDC]\n",
    "\n",
    "for snomed, edc_list in d.items():\n",
    "    d[snomed] = list(set(edc_list))"
   ]
  },
  {
   "cell_type": "code",
   "execution_count": 32,
   "metadata": {},
   "outputs": [],
   "source": [
    "df2= pd.read_csv('/Users/campbelle2/Documents/control_pop_conditions.csv')"
   ]
  },
  {
   "cell_type": "code",
   "execution_count": 33,
   "metadata": {},
   "outputs": [],
   "source": [
    "df2[\"EDC\"] = \"\"\n",
    "df2.drop(\"Unnamed: 0\",axis=1,inplace=True) "
   ]
  },
  {
   "cell_type": "code",
   "execution_count": 35,
   "metadata": {},
   "outputs": [
    {
     "data": {
      "text/plain": [
       "person_id                       int64\n",
       "condition_start_date           object\n",
       "visit_occurrence_id             int64\n",
       "condition_concept_id            int64\n",
       "condition_source_concept_id     int64\n",
       "num_of_prior_visits             int64\n",
       "index_age                       int64\n",
       "Timing_Class                    int64\n",
       "EDC                            object\n",
       "dtype: object"
      ]
     },
     "execution_count": 35,
     "metadata": {},
     "output_type": "execute_result"
    }
   ],
   "source": [
    "df2.dtypes"
   ]
  },
  {
   "cell_type": "code",
   "execution_count": 36,
   "metadata": {},
   "outputs": [
    {
     "name": "stdout",
     "output_type": "stream",
     "text": [
      "Empty DataFrame\n",
      "Columns: [person_id, condition_start_date, visit_occurrence_id, condition_concept_id, condition_source_concept_id, num_of_prior_visits, index_age, Timing_Class, EDC]\n",
      "Index: []\n"
     ]
    }
   ],
   "source": [
    "df3 = df2.iloc[0:1, 0:9]\n",
    "df3 = df3[df3.person_id != 4239598 ]\n",
    "print(df3)"
   ]
  },
  {
   "cell_type": "code",
   "execution_count": 37,
   "metadata": {},
   "outputs": [
    {
     "data": {
      "text/html": [
       "<div>\n",
       "<style scoped>\n",
       "    .dataframe tbody tr th:only-of-type {\n",
       "        vertical-align: middle;\n",
       "    }\n",
       "\n",
       "    .dataframe tbody tr th {\n",
       "        vertical-align: top;\n",
       "    }\n",
       "\n",
       "    .dataframe thead th {\n",
       "        text-align: right;\n",
       "    }\n",
       "</style>\n",
       "<table border=\"1\" class=\"dataframe\">\n",
       "  <thead>\n",
       "    <tr style=\"text-align: right;\">\n",
       "      <th></th>\n",
       "      <th>person_id</th>\n",
       "      <th>condition_start_date</th>\n",
       "      <th>visit_occurrence_id</th>\n",
       "      <th>condition_concept_id</th>\n",
       "      <th>condition_source_concept_id</th>\n",
       "      <th>num_of_prior_visits</th>\n",
       "      <th>index_age</th>\n",
       "      <th>Timing_Class</th>\n",
       "      <th>EDC</th>\n",
       "    </tr>\n",
       "  </thead>\n",
       "  <tbody>\n",
       "  </tbody>\n",
       "</table>\n",
       "</div>"
      ],
      "text/plain": [
       "Empty DataFrame\n",
       "Columns: [person_id, condition_start_date, visit_occurrence_id, condition_concept_id, condition_source_concept_id, num_of_prior_visits, index_age, Timing_Class, EDC]\n",
       "Index: []"
      ]
     },
     "execution_count": 37,
     "metadata": {},
     "output_type": "execute_result"
    }
   ],
   "source": [
    "df3.dtypes\n",
    "df3.head()"
   ]
  },
  {
   "cell_type": "code",
   "execution_count": 38,
   "metadata": {},
   "outputs": [],
   "source": [
    "pd.options.mode.chained_assignment = None"
   ]
  },
  {
   "cell_type": "code",
   "execution_count": 39,
   "metadata": {},
   "outputs": [
    {
     "data": {
      "text/plain": [
       "''"
      ]
     },
     "execution_count": 39,
     "metadata": {},
     "output_type": "execute_result"
    }
   ],
   "source": [
    "df2.at[0,'EDC']"
   ]
  },
  {
   "cell_type": "code",
   "execution_count": 40,
   "metadata": {},
   "outputs": [],
   "source": [
    "for i in range(len(df2)): \n",
    "        snomed= df2.iloc[i][\"condition_source_concept_id\"]\n",
    "        if snomed in d:\n",
    "            EDC= d[snomed]\n",
    "            df2.at[i, 'EDC']= EDC[0]\n",
    "            if len(EDC) > 1:\n",
    "                for v in EDC[1:]:\n",
    "                    df3.loc[df3.shape[0]] = [\n",
    "                        df2.iloc[i][\"person_id\"],\n",
    "                        df2.iloc[i][\"condition_start_date\"],\n",
    "                        df2.iloc[i][\"visit_occurrence_id\"],\n",
    "                        df2.iloc[i][\"condition_concept_id\"],\n",
    "                        df2.iloc[i][\"condition_source_concept_id\"],\n",
    "                        df2.iloc[i][\"num_of_prior_visits\"],\n",
    "                        df2.iloc[i][\"index_age\"],\n",
    "                        df2.iloc[i][\"Timing_Class\"],\n",
    "                        v]"
   ]
  },
  {
   "cell_type": "code",
   "execution_count": 65,
   "metadata": {},
   "outputs": [],
   "source": [
    "df2.to_csv('/Users/campbelle2/Documents/EDC_controls1.csv', encoding='utf-8', index=False, header=True)"
   ]
  },
  {
   "cell_type": "code",
   "execution_count": 66,
   "metadata": {},
   "outputs": [],
   "source": [
    "df3.to_csv('/Users/campbelle2/Documents/EDC_controls2.csv', encoding='utf-8', index=False, header=True)"
   ]
  },
  {
   "cell_type": "code",
   "execution_count": 67,
   "metadata": {},
   "outputs": [],
   "source": [
    "frames = [ df2, df3]"
   ]
  },
  {
   "cell_type": "code",
   "execution_count": 68,
   "metadata": {},
   "outputs": [],
   "source": [
    "result = pd.concat(frames)"
   ]
  },
  {
   "cell_type": "code",
   "execution_count": 69,
   "metadata": {},
   "outputs": [],
   "source": [
    "result.to_csv('/Users/campbelle2/Documents/EDC_controls3.csv', encoding='utf-8', index=False, header=True)"
   ]
  },
  {
   "cell_type": "code",
   "execution_count": null,
   "metadata": {},
   "outputs": [],
   "source": []
  }
 ],
 "metadata": {
  "kernelspec": {
   "display_name": "Python 3",
   "language": "python",
   "name": "python3"
  },
  "language_info": {
   "codemirror_mode": {
    "name": "ipython",
    "version": 3
   },
   "file_extension": ".py",
   "mimetype": "text/x-python",
   "name": "python",
   "nbconvert_exporter": "python",
   "pygments_lexer": "ipython3",
   "version": "3.6.4"
  }
 },
 "nbformat": 4,
 "nbformat_minor": 2
}
