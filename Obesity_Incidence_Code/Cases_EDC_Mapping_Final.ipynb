{
 "cells": [
  {
   "cell_type": "code",
   "execution_count": 1,
   "metadata": {},
   "outputs": [],
   "source": [
    "import pandas as pd\n",
    "import numpy as np"
   ]
  },
  {
   "cell_type": "code",
   "execution_count": 2,
   "metadata": {},
   "outputs": [],
   "source": [
    "d= {}"
   ]
  },
  {
   "cell_type": "code",
   "execution_count": 3,
   "metadata": {},
   "outputs": [],
   "source": [
    "df = pd.read_csv('/Users/campbelle2/Documents/source_EDC.csv')"
   ]
  },
  {
   "cell_type": "code",
   "execution_count": 4,
   "metadata": {},
   "outputs": [],
   "source": [
    "for i in range(len(df)):\n",
    "    snomed= df.iloc[i]['condition_source_concept_id']\n",
    "    EDC= df.iloc[i]['edc_code']\n",
    "    if snomed in d:\n",
    "        d[snomed].append(EDC)\n",
    "    else:\n",
    "        d[snomed]=[EDC]\n",
    "\n",
    "for snomed, edc_list in d.items():\n",
    "    d[snomed] = list(set(edc_list))"
   ]
  },
  {
   "cell_type": "code",
   "execution_count": 6,
   "metadata": {},
   "outputs": [],
   "source": [
    "df2= pd.read_csv('/Users/campbelle2/Documents/clinical_findings_obese.csv')"
   ]
  },
  {
   "cell_type": "code",
   "execution_count": 7,
   "metadata": {},
   "outputs": [],
   "source": [
    "df2[\"EDC\"] = \"\"\n",
    "df2.drop(\"Unnamed: 0\",axis=1,inplace=True) "
   ]
  },
  {
   "cell_type": "code",
   "execution_count": 9,
   "metadata": {},
   "outputs": [
    {
     "data": {
      "text/plain": [
       "person_id                       int64\n",
       "min_obese_date                 object\n",
       "visit_date                     object\n",
       "condition_concept_id            int64\n",
       "condition_source_concept_id     int64\n",
       "concept_name                   object\n",
       "visit_occurrence_id             int64\n",
       "Timing_Class                    int64\n",
       "has.pre                          bool\n",
       "has.during                       bool\n",
       "has.post                         bool\n",
       "V1                              int64\n",
       "EDC                            object\n",
       "dtype: object"
      ]
     },
     "execution_count": 9,
     "metadata": {},
     "output_type": "execute_result"
    }
   ],
   "source": [
    "df2.dtypes"
   ]
  },
  {
   "cell_type": "code",
   "execution_count": null,
   "metadata": {},
   "outputs": [],
   "source": [
    "df3 = df2.iloc[0:1, 0:13]\n",
    "df3 = df3[df3.person_id != 4260365 ]"
   ]
  },
  {
   "cell_type": "code",
   "execution_count": 12,
   "metadata": {},
   "outputs": [],
   "source": [
    "pd.options.mode.chained_assignment = None"
   ]
  },
  {
   "cell_type": "code",
   "execution_count": 24,
   "metadata": {},
   "outputs": [
    {
     "data": {
      "text/plain": [
       "'EAR11'"
      ]
     },
     "execution_count": 24,
     "metadata": {},
     "output_type": "execute_result"
    }
   ],
   "source": [
    "df2.at[0,'EDC']"
   ]
  },
  {
   "cell_type": "code",
   "execution_count": 25,
   "metadata": {},
   "outputs": [],
   "source": [
    "for i in range(len(df2)): \n",
    "        snomed= df2.iloc[i][\"condition_source_concept_id\"]\n",
    "        if snomed in d:\n",
    "            EDC= d[snomed]\n",
    "            df2.at[i, 'EDC']= EDC[0]\n",
    "            if len(EDC) > 1:\n",
    "                for v in EDC[1:]:\n",
    "                    df3.loc[df3.shape[0]] = [\n",
    "                        df2.iloc[i][\"person_id\"],\n",
    "                        df2.iloc[i][\"min_obese_date\"],\n",
    "                        df2.iloc[i][\"visit_date\"],\n",
    "                        df2.iloc[i][\"condition_concept_id\"],\n",
    "                        df2.iloc[i][\"condition_source_concept_id\"],\n",
    "                        df2.iloc[i][\"concept_name\"],\n",
    "                        df2.iloc[i][\"visit_occurrence_id\"],\n",
    "                        df2.iloc[i][\"Timing_Class\"],\n",
    "                        df2.iloc[i][\"has.pre\"],\n",
    "                        df2.iloc[i][\"has.during\"],\n",
    "                        df2.iloc[i][\"has.post\"],\n",
    "                        df2.iloc[i][\"V1\"],\n",
    "                        v]"
   ]
  },
  {
   "cell_type": "code",
   "execution_count": 19,
   "metadata": {},
   "outputs": [],
   "source": [
    "df2.to_csv('/Users/campbelle2/Downloads/EDC_map1.csv', encoding='utf-8', index=False, header=True)"
   ]
  },
  {
   "cell_type": "code",
   "execution_count": 20,
   "metadata": {},
   "outputs": [],
   "source": [
    "df3.to_csv('/Users/campbelle2/Downloads/EDC_map2.csv', encoding='utf-8', index=False, header=True)"
   ]
  },
  {
   "cell_type": "code",
   "execution_count": 21,
   "metadata": {},
   "outputs": [],
   "source": [
    "frames = [ df2, df3]"
   ]
  },
  {
   "cell_type": "code",
   "execution_count": 22,
   "metadata": {},
   "outputs": [],
   "source": [
    "result = pd.concat(frames)"
   ]
  },
  {
   "cell_type": "code",
   "execution_count": 23,
   "metadata": {},
   "outputs": [],
   "source": [
    "result.to_csv('/Users/campbelle2/Downloads/EDC_map3.csv', encoding='utf-8', index=False, header=True)"
   ]
  }
 ],
 "metadata": {
  "kernelspec": {
   "display_name": "Python 3",
   "language": "python",
   "name": "python3"
  },
  "language_info": {
   "codemirror_mode": {
    "name": "ipython",
    "version": 3
   },
   "file_extension": ".py",
   "mimetype": "text/x-python",
   "name": "python",
   "nbconvert_exporter": "python",
   "pygments_lexer": "ipython3",
   "version": "3.6.4"
  }
 },
 "nbformat": 4,
 "nbformat_minor": 2
}
